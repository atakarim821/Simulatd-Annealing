{
 "cells": [
  {
   "cell_type": "code",
   "execution_count": 3,
   "metadata": {},
   "outputs": [],
   "source": [
    "import numpy as np\n",
    "import matplotlib.pyplot as plt\n",
    "from matplotlib.animation import FuncAnimation\n",
    "import random"
   ]
  },
  {
   "cell_type": "code",
   "execution_count": 9,
   "metadata": {},
   "outputs": [],
   "source": [
    "# For 10 cities simulation use no_of_iterations = 1000 and change no_of_cities = 10\n",
    "# For 100 cities simulation use no_of_iterations = 100000 and change no_of_cities = 100\n",
    "\n",
    "file = \"10.txt\" \n",
    "no_of_iterations = 1000\n",
    "no_of_cities = 100\n",
    "no_of_frames =100"
   ]
  },
  {
   "attachments": {},
   "cell_type": "markdown",
   "metadata": {},
   "source": [
    " Accesing location of cities and storing them appropriately"
   ]
  },
  {
   "cell_type": "code",
   "execution_count": 4,
   "metadata": {},
   "outputs": [],
   "source": [
    "locations = []\n",
    "with open(file, \"r\") as points:\n",
    "    loc = points.readlines()\n",
    "    for i,ele  in enumerate(loc[1:]):\n",
    "        x=float(ele.split()[0])\n",
    "        y=float(ele.split()[1])\n",
    "        locations.append([x,y, i])\n",
    "locations.append(locations[0])"
   ]
  },
  {
   "attachments": {},
   "cell_type": "markdown",
   "metadata": {},
   "source": [
    "`total_distance` function takes the location of cities in order and find the total distance traversed."
   ]
  },
  {
   "cell_type": "code",
   "execution_count": 5,
   "metadata": {},
   "outputs": [],
   "source": [
    "def total_distance(locations):\n",
    "    sum = 0\n",
    "    for i in range(len(locations)-1):\n",
    "        sum += np.sqrt((locations[i][0]-locations[i+1][0])**2+(locations[i][1]-locations[i+1][1])**2)\n",
    "    return sum"
   ]
  },
  {
   "attachments": {},
   "cell_type": "markdown",
   "metadata": {},
   "source": [
    "`cooling` function is used to decrease the temperature exponentially."
   ]
  },
  {
   "cell_type": "code",
   "execution_count": 6,
   "metadata": {},
   "outputs": [],
   "source": [
    "def cooling(temp, alpha):\n",
    "    return temp*alpha"
   ]
  },
  {
   "attachments": {},
   "cell_type": "markdown",
   "metadata": {},
   "source": [
    "`check_accept` function is used to decide whether to take or not take the path in particular iteration. When distance to be traversed is less than the minimum distance traveresed so far, then we surely accept that path. But if distance to be traversed is more than the minimum distance traveresed so far, then we accept that path with decreasing probability."
   ]
  },
  {
   "cell_type": "code",
   "execution_count": 7,
   "metadata": {},
   "outputs": [],
   "source": [
    "def check_accept(temp, current_solution, new_solution):\n",
    "    prob = min(1, np.exp(-(new_solution - current_solution) / temp))\n",
    "    if(prob > random.uniform(0,1)):\n",
    "        return True\n",
    "    else:\n",
    "        return False"
   ]
  },
  {
   "attachments": {},
   "cell_type": "markdown",
   "metadata": {},
   "source": [
    "`best_route` function return all the possible paths which we have iterated and also the least distance found in each iteration."
   ]
  },
  {
   "cell_type": "code",
   "execution_count": 12,
   "metadata": {},
   "outputs": [],
   "source": [
    "def best_route(cordinate, no_of_iterations, Temp=1000, alpha=0.99):\n",
    "    current_distance = total_distance(cordinate)\n",
    "    best_distance = []\n",
    "    best_distance.append(current_distance)\n",
    "    Route = []\n",
    "    Route.append(cordinate.copy())\n",
    "    for _ in range(no_of_iterations):\n",
    "        # Swap any two random location\n",
    "        swap_list_indx = range( 1, len(cordinate)-1)\n",
    "        i = random.randint(swap_list_indx[0], swap_list_indx[-1])\n",
    "        j = random.randint(swap_list_indx[0], swap_list_indx[-1])\n",
    "        if i == j:\n",
    "            while i == j:\n",
    "                j = random.randint(swap_list_indx[0], swap_list_indx[-1])\n",
    "        new_order = cordinate.copy()\n",
    "        new_order[min(i,j):max(j,i)+1] = reversed(new_order[min(i,j):max(j,i)+1])\n",
    "        current_distance = total_distance(cordinate)\n",
    "        new_distance = total_distance(new_order)\n",
    "        if(new_distance<best_distance[-1]):\n",
    "            best_distance.append(new_distance)\n",
    "        else:\n",
    "            best_distance.append(best_distance[-1])\n",
    "\n",
    "        Temp = cooling(Temp, alpha)\n",
    "        if(check_accept(Temp, current_distance, new_distance)):\n",
    "            cordinate = new_order.copy()\n",
    "        Route.append(cordinate.copy())\n",
    "    return best_distance, Route\n",
    "\n",
    "best_distance , best_path =  best_route(locations, no_of_iterations)"
   ]
  },
  {
   "attachments": {},
   "cell_type": "markdown",
   "metadata": {},
   "source": [
    "### Code for Animation."
   ]
  },
  {
   "cell_type": "code",
   "execution_count": null,
   "metadata": {},
   "outputs": [],
   "source": [
    "fig, ax = plt.subplots()\n",
    "def onestep(frame):\n",
    "    global best_distance\n",
    "    ax.clear()\n",
    "    distance = total_distance(best_path[frame])\n",
    "\n",
    "    ax.set_title('Current Distance = '+str(np.round(distance, decimals=2))+'\\n'\n",
    "                 +\"Best Distance = \"+str(np.round(best_distance[frame], decimals=2))+\n",
    "                '\\n Iterations = '+str(frame) ) \n",
    "    ax.plot([best_path[frame][i][0] for i in range(no_of_cities+1)], [best_path[frame][i][1] for i in range(no_of_cities+1)])\n",
    "    ax.plot([best_path[frame][i][0] for i in range(no_of_cities+1)], [best_path[frame][i][1] for i in range(no_of_cities+1)], 'ro')\n",
    "ani= FuncAnimation(fig, onestep, frames=[(no_of_iterations//no_of_frames)*i for i in range(no_of_frames+1)], interval=100,repeat=False)\n",
    "plt.show()"
   ]
  },
  {
   "attachments": {},
   "cell_type": "markdown",
   "metadata": {},
   "source": [
    "### Inferences:\n",
    " - For 10 cities minimum distance was found to be 34 units for 1000 iterations.\n",
    " - For 100 cities minimum distance was found to be around 88 units for 50000 iterations."
   ]
  }
 ],
 "metadata": {
  "kernelspec": {
   "display_name": "Python 3",
   "language": "python",
   "name": "python3"
  },
  "language_info": {
   "codemirror_mode": {
    "name": "ipython",
    "version": 3
   },
   "file_extension": ".py",
   "mimetype": "text/x-python",
   "name": "python",
   "nbconvert_exporter": "python",
   "pygments_lexer": "ipython3",
   "version": "3.10.5"
  },
  "orig_nbformat": 4
 },
 "nbformat": 4,
 "nbformat_minor": 2
}
